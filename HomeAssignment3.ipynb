{
 "cells": [
  {
   "cell_type": "code",
   "execution_count": null,
   "metadata": {},
   "outputs": [],
   "source": [
    "# Task 2 - Implement Logistic Regression Model\n",
    "import numpy as np\n",
    "\n",
    "class LogisticRegression():\n",
    "    def __init__(self, learning_rate=0.01, threshold=0.5, num_iterations=1000,verbose = False):\n",
    "        self.learning_rate = learning_rate\n",
    "        self.threshold = threshold\n",
    "        self.num_iterations = num_iterations\n",
    "        self.__n_features = None\n",
    "        self.__N_samples = None\n",
    "        self._weights = None\n",
    "        self.verbose = verbose\n",
    "\n",
    "    def __initialize(self, X, with_bias=False):\n",
    "        if(with_bias):\n",
    "            return X\n",
    "        else:\n",
    "            return np.c_[X, np.ones(X.shape[0])]\n",
    "         \n",
    "    def fit(self, X, y, with_bias=False) -> None:\n",
    "        self.__N_samples, self.__n_features = X.shape\n",
    "        self._weights = np.zeros(self.__n_features+1)\n",
    "        X = self.__initialize(X, with_bias=with_bias) \n",
    "        # gradient decent - loop\n",
    "        for _ in range(self.num_iterations):\n",
    "            y_prob = self.__sigmoid(np.dot(X, self._weights))\n",
    "            gradient = (1/self.__N_samples) * np.dot(X.T, (y_prob - y))\n",
    "            self._weights = self._weights - self.learning_rate*gradient\n",
    "            if self.verbose and (_ % 20 == 0 or _ == self.num_iterations-1):\n",
    "                loss = self.log_loss(y_prob,y)\n",
    "                print(f\"Loss after iteration {_}: {loss}\")\n",
    "            \n",
    "    def predict_proba(self, X, with_bias=False):\n",
    "        if(with_bias == False):\n",
    "            X = self.__initialize(X, with_bias)  # add constance to X if needed\n",
    "        return self.__sigmoid(np.dot(X, self._weights))\n",
    "    \n",
    "    def predict(self, X, with_bias=False):\n",
    "        y_prob = self.predict_proba(X, with_bias) # predict probabilities\n",
    "        y_pred = np.where(y_prob < self.threshold, 0, 1) # return below 0.5 as 0 and upper as 1\n",
    "        return y_pred\n",
    "        \n",
    "    def score(self, X, y,with_bias=False) -> float: # check accuracy score\n",
    "        y_pred = self.predict(X,with_bias=with_bias) # predict labels\n",
    "        correct = np.sum(y == y_pred) # checking right predictions\n",
    "        return correct/len(y) # take the average of correct predictions\n",
    "    \n",
    "    def f1_score(self,y_true,y_pred):\n",
    "        # create confusion table (true positive, false negative and false positive)\n",
    "        tp = np.sum((y_true == 1) & (y_pred == 1)) # true positive\n",
    "        fp = np.sum((y_true == 0) & (y_pred == 1)) # false positive\n",
    "        fn = np.sum((y_true == 1) & (y_pred == 0)) # false negative\n",
    "        precision = tp / (tp + fp)\n",
    "        recall = tp / (tp + fn)\n",
    "        f1 = 2 * (precision * recall) / (precision + recall)\n",
    "        return recall,precision,f1\n",
    "    \n",
    "    def __sigmoid(self,x):\n",
    "        return 1/(1+np.exp(-x))\n",
    "\n",
    "    def log_loss(self, y_pred_prob, y):\n",
    "        epsilon = 1e-5  # to avoid from log(zero) adding epsilon\n",
    "        return (-y * np.log(y_pred_prob + epsilon) - (1 - y) * np.log(1 - y_pred_prob + epsilon)).mean()"
   ]
  },
  {
   "attachments": {},
   "cell_type": "markdown",
   "metadata": {},
   "source": [
    "#### Task 3 - Run Logistic Regression Model on Dataset Spam/Ham - Imports"
   ]
  },
  {
   "cell_type": "code",
   "execution_count": null,
   "metadata": {},
   "outputs": [],
   "source": [
    "from sklearn.feature_extraction.text import CountVectorizer\n",
    "from sklearn.model_selection import train_test_split\n",
    "import string\n",
    "import pandas as pd\n",
    "import matplotlib.pyplot as plt\n",
    "import nltk\n",
    "import seaborn as sns\n",
    "%matplotlib inline"
   ]
  },
  {
   "cell_type": "code",
   "execution_count": null,
   "metadata": {},
   "outputs": [],
   "source": [
    "# need to run only once\n",
    "nltk.download('punkt') \n",
    "nltk.download('stopwords')"
   ]
  },
  {
   "attachments": {},
   "cell_type": "markdown",
   "metadata": {},
   "source": [
    "#### Task 3 - Logistic Regression Model on Dataset Spam/Ham - Loading Data"
   ]
  },
  {
   "cell_type": "code",
   "execution_count": null,
   "metadata": {},
   "outputs": [],
   "source": [
    "# Task 3 - Run Logistic Regression Model on Dataset Spam/Ham - Loading Data\n",
    "df = pd.read_csv('spam_ham_dataset.csv')\n",
    "df.drop(['Unnamed: 0'],axis=1,inplace = True)\n",
    "df.rename(columns={'label_num':'target'},inplace=True)\n",
    "df['text'] = df['text'].replace(r'\\n', ' ', regex=True) # remove \\n"
   ]
  },
  {
   "attachments": {},
   "cell_type": "markdown",
   "metadata": {},
   "source": [
    "#### Task 3 - Logistic Regression Model on Dataset Spam/Ham - Preprocessing"
   ]
  },
  {
   "cell_type": "code",
   "execution_count": null,
   "metadata": {},
   "outputs": [],
   "source": [
    "# Add lens of text and show the information\n",
    "# working on duplicate because after looking on this details it isn't looking helpful for prediction\n",
    "df_dup = df.copy()\n",
    "# this part take few seconds of run time\n",
    "df_dup['num_characters'] = df_dup['text'].apply(len) # add more information about len of text\n",
    "df_dup['num_words'] = df_dup['text'].apply(lambda text:len(nltk.word_tokenize(text)))\n",
    "df_dup['num_sentences'] = df_dup['text'].apply(lambda text:len(nltk.sent_tokenize(text)))"
   ]
  },
  {
   "attachments": {},
   "cell_type": "markdown",
   "metadata": {},
   "source": [
    "##### Plot some data to get a bigger picture of the dataset"
   ]
  },
  {
   "cell_type": "code",
   "execution_count": null,
   "metadata": {},
   "outputs": [],
   "source": [
    "# Show the data informations\n",
    "print(\"Ham:\")\n",
    "print(df_dup[df_dup['target'] == 0][['num_characters','num_words','num_sentences']].describe())\n",
    "print(\"\\nSpam:\")\n",
    "print(df_dup[df_dup['target'] == 1][['num_characters','num_words','num_sentences']].describe())\n",
    "print(\"\\nBoth:\")\n",
    "print(df_dup[['num_characters','num_words','num_sentences']].describe())\n",
    "\n",
    "# plot the histogram of lens\n",
    "df_dup.hist(column='num_characters',bins=200,figsize=(10,4),)\n",
    "df_dup.hist(column='num_characters',by='label',bins=100,figsize=(10,4))\n",
    "df_dup.hist(column='num_words',bins=200,figsize=(10,4))\n",
    "df_dup.hist(column='num_words',by='label',bins=100,figsize=(10,4))\n",
    "df_dup.hist(column='num_sentences',bins=200,figsize=(10,4))\n",
    "df_dup.hist(column='num_sentences',by='label',bins=100,figsize=(10,4))"
   ]
  },
  {
   "cell_type": "code",
   "execution_count": null,
   "metadata": {},
   "outputs": [],
   "source": [
    "plt.figure(figsize=(12,8))\n",
    "sns.histplot(df_dup[df_dup['target'] == 0]['num_characters'])\n",
    "sns.histplot(df_dup[df_dup['target'] == 1]['num_characters'],color='red')"
   ]
  },
  {
   "cell_type": "code",
   "execution_count": null,
   "metadata": {},
   "outputs": [],
   "source": [
    "plt.figure(figsize=(12,8))\n",
    "sns.histplot(df_dup[df_dup['target'] == 0]['num_words'])\n",
    "sns.histplot(df_dup[df_dup['target'] == 1]['num_words'],color='red')"
   ]
  },
  {
   "cell_type": "code",
   "execution_count": null,
   "metadata": {},
   "outputs": [],
   "source": [
    "plt.figure(figsize=(12,8))\n",
    "sns.histplot(df_dup[df_dup['target'] == 0]['num_sentences'])\n",
    "sns.histplot(df_dup[df_dup['target'] == 1]['num_sentences'],color='red')"
   ]
  },
  {
   "cell_type": "code",
   "execution_count": null,
   "metadata": {},
   "outputs": [],
   "source": [
    "sns.pairplot(df_dup,hue='target')\n",
    "df_withoutStrings = df_dup.drop(columns=['label','text'],inplace=False)"
   ]
  },
  {
   "cell_type": "code",
   "execution_count": null,
   "metadata": {},
   "outputs": [],
   "source": [
    "# Show correlation between lens and label\n",
    "sns.heatmap(df_withoutStrings.corr(),annot=True)"
   ]
  },
  {
   "attachments": {},
   "cell_type": "markdown",
   "metadata": {},
   "source": [
    "##### Creating bag of words from dataset text"
   ]
  },
  {
   "cell_type": "code",
   "execution_count": 62,
   "metadata": {},
   "outputs": [],
   "source": [
    "cv = CountVectorizer(lowercase = True , stop_words = 'english')\n",
    "X = cv.fit_transform(df['text']).toarray() # create vector of words from emails\n",
    "y = df['target'].values # take the labels\n",
    "# split to train test\n",
    "X_train, X_test, y_train, y_test = train_test_split(X, y, train_size=0.8,random_state=0)"
   ]
  },
  {
   "cell_type": "code",
   "execution_count": 63,
   "metadata": {},
   "outputs": [
    {
     "name": "stdout",
     "output_type": "stream",
     "text": [
      "Loss after iteration 0: 0.6931271807599426\n",
      "Loss after iteration 20: 0.3486191982037344\n",
      "Loss after iteration 40: 0.2926177322922079\n",
      "Loss after iteration 60: 0.2594346838695106\n",
      "Loss after iteration 80: 0.23606798055787012\n",
      "Loss after iteration 100: 0.2182829210082932\n",
      "Loss after iteration 120: 0.20410770952466306\n",
      "Loss after iteration 140: 0.19244844243847747\n",
      "Loss after iteration 160: 0.18263236728304658\n",
      "Loss after iteration 180: 0.17421647210277857\n",
      "Loss after iteration 199: 0.16723813106048568\n",
      "Accuracy Score: 0.9739130434782609\n",
      "F1 Score: (0.9539473684210527, 0.9570957095709571, 0.955518945634267)\n",
      "Log Loss: 0.1851059919866051\n"
     ]
    }
   ],
   "source": [
    "clf = LogisticRegression(learning_rate=0.1,num_iterations=200,verbose=True)\n",
    "clf.fit(X_train,y_train)\n",
    "y_test_pred = clf.predict(X_test)\n",
    "print(f'Accuracy Score: {clf.score(X_test,y_test)}')\n",
    "print(f'F1 Score: {clf.f1_score(y_test_pred,y_test)}')\n",
    "print(f'Log Loss: {clf.log_loss(clf.predict_proba(X_test),y_test)}')"
   ]
  },
  {
   "attachments": {},
   "cell_type": "markdown",
   "metadata": {},
   "source": [
    "**Motivation to choose parameters**\n",
    "- I shuffled (re-split and run) few times to see consistency of scores.\n",
    "- The learning rate is 0.1 after trying different values and see that take to good result in few interations.\n",
    "-  The num_iterations is 200 because less that 200 usually not enough for reach good result and more is not increase the score in significant value.\n",
    "\n",
    "-  For decide which predictions are good, i used accuracy score and F1 score with confustion table.\n",
    "    - I added verbose flag to the model for printing the log loss function of predictions to see the progress of learning.\n",
    "    - I choosed parameters when i got Recall and Precision balanced with high score (around 95%+) and that i saw that when i changed paramaters one of scores go up but the second go down and F1 score didn't rise significantly."
   ]
  }
 ],
 "metadata": {
  "kernelspec": {
   "display_name": "mta",
   "language": "python",
   "name": "python3"
  },
  "language_info": {
   "codemirror_mode": {
    "name": "ipython",
    "version": 3
   },
   "file_extension": ".py",
   "mimetype": "text/x-python",
   "name": "python",
   "nbconvert_exporter": "python",
   "pygments_lexer": "ipython3",
   "version": "3.9.16"
  },
  "orig_nbformat": 4
 },
 "nbformat": 4,
 "nbformat_minor": 2
}
